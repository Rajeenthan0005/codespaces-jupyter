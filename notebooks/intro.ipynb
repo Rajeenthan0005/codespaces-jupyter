{
 "cells": [
  {
   "cell_type": "code",
   "execution_count": 37,
   "metadata": {},
   "outputs": [
    {
     "name": "stdout",
     "output_type": "stream",
     "text": [
      "Hello World!!! Python_03\n"
     ]
    }
   ],
   "source": [
    "print(\"Hello World!!!\", end=\" \");\n",
    "\n",
    "print(\"Python_03\");"
   ]
  },
  {
   "cell_type": "code",
   "execution_count": 38,
   "metadata": {},
   "outputs": [
    {
     "name": "stdout",
     "output_type": "stream",
     "text": [
      "IT AMC TECH\n",
      "IT/AMC/TECH\n"
     ]
    }
   ],
   "source": [
    "print(\"IT\", \"AMC\",\"TECH\");\n",
    "print(\"IT\", \"AMC\",\"TECH\", sep=\"/\");"
   ]
  },
  {
   "cell_type": "code",
   "execution_count": 39,
   "metadata": {},
   "outputs": [
    {
     "name": "stdout",
     "output_type": "stream",
     "text": [
      "Python__Java__PHP!!! \n",
      "IT/AMC/TECH!!!"
     ]
    }
   ],
   "source": [
    "print(\"Python\",\"Java\",\"PHP\",sep=\"__\",end=\"!!! \\n\")\n",
    "print(\"IT\", \"AMC\",\"TECH\", sep=\"/\", end=\"!!!\");"
   ]
  },
  {
   "cell_type": "code",
   "execution_count": 40,
   "metadata": {},
   "outputs": [
    {
     "name": "stdout",
     "output_type": "stream",
     "text": [
      "aa\n"
     ]
    }
   ],
   "source": [
    "\n",
    "print(\"a\" * 2)\n",
    "print()"
   ]
  },
  {
   "cell_type": "code",
   "execution_count": null,
   "metadata": {},
   "outputs": [],
   "source": []
  }
 ],
 "metadata": {
  "kernelspec": {
   "display_name": "Python 3",
   "language": "python",
   "name": "python3"
  },
  "language_info": {
   "codemirror_mode": {
    "name": "ipython",
    "version": 3
   },
   "file_extension": ".py",
   "mimetype": "text/x-python",
   "name": "python",
   "nbconvert_exporter": "python",
   "pygments_lexer": "ipython3",
   "version": "3.10.13"
  }
 },
 "nbformat": 4,
 "nbformat_minor": 2
}
